{
 "cells": [
  {
   "cell_type": "code",
   "execution_count": 2,
   "metadata": {},
   "outputs": [
    {
     "name": "stderr",
     "output_type": "stream",
     "text": [
      "2024-06-07 03:00:50.508326: I tensorflow/core/platform/cpu_feature_guard.cc:193] This TensorFlow binary is optimized with oneAPI Deep Neural Network Library (oneDNN) to use the following CPU instructions in performance-critical operations:  AVX2 FMA\n",
      "To enable them in other operations, rebuild TensorFlow with the appropriate compiler flags.\n",
      "2024-06-07 03:00:50.705252: W tensorflow/stream_executor/platform/default/dso_loader.cc:64] Could not load dynamic library 'libcudart.so.11.0'; dlerror: libcudart.so.11.0: cannot open shared object file: No such file or directory\n",
      "2024-06-07 03:00:50.705275: I tensorflow/stream_executor/cuda/cudart_stub.cc:29] Ignore above cudart dlerror if you do not have a GPU set up on your machine.\n",
      "2024-06-07 03:00:50.728315: E tensorflow/stream_executor/cuda/cuda_blas.cc:2981] Unable to register cuBLAS factory: Attempting to register factory for plugin cuBLAS when one has already been registered\n",
      "2024-06-07 03:00:53.395014: W tensorflow/stream_executor/platform/default/dso_loader.cc:64] Could not load dynamic library 'libnvinfer.so.7'; dlerror: libnvinfer.so.7: cannot open shared object file: No such file or directory\n",
      "2024-06-07 03:00:53.395207: W tensorflow/stream_executor/platform/default/dso_loader.cc:64] Could not load dynamic library 'libnvinfer_plugin.so.7'; dlerror: libnvinfer_plugin.so.7: cannot open shared object file: No such file or directory\n",
      "2024-06-07 03:00:53.395220: W tensorflow/compiler/tf2tensorrt/utils/py_utils.cc:38] TF-TRT Warning: Cannot dlopen some TensorRT libraries. If you would like to use Nvidia GPU with TensorRT, please make sure the missing libraries mentioned above are installed properly.\n"
     ]
    }
   ],
   "source": [
    "import pandas as pd\n",
    "import numpy as np\n",
    "import tensorflow as tf\n",
    "from sklearn.model_selection import  train_test_split\n",
    "import matplotlib.pyplot as plt\n",
    "from sklearn.metrics import confusion_matrix, classification_report, accuracy_score"
   ]
  },
  {
   "cell_type": "code",
   "execution_count": 3,
   "metadata": {},
   "outputs": [
    {
     "data": {
      "text/plain": [
       "(540, 21)"
      ]
     },
     "execution_count": 3,
     "metadata": {},
     "output_type": "execute_result"
    }
   ],
   "source": [
    "climate_data = pd.read_csv('climate.csv') # Read the data set\n",
    "climate_data.shape # Display the shape of the data set"
   ]
  },
  {
   "cell_type": "code",
   "execution_count": 4,
   "metadata": {},
   "outputs": [],
   "source": [
    "# Define the loss function wich uses binary cross entropy loss to deal with binary classification problems\n",
    "def loss_fn(targets, predictions): \n",
    "    return -tf.reduce_mean(targets * tf.math.log(predictions) + (1 - targets) * tf.math.log(1 - predictions))"
   ]
  },
  {
   "cell_type": "code",
   "execution_count": 5,
   "metadata": {},
   "outputs": [],
   "source": [
    "# Define the sigmoid activation function\n",
    "def sigmoid(inputs):\n",
    "    return 1 / (1 + tf.exp(-inputs))\n",
    "\n",
    "# Define the ReLU activation function\n",
    "def relu(inputs):\n",
    "    return tf.maximum(0, inputs)\n",
    "\n",
    "# Define a forward propagator\n",
    "def forward(inputs, weights, biases):\n",
    "    hidden_layer_input = tf.add(tf.matmul(inputs, weights['hidden']), biases['hidden'])\n",
    "    hidden_layer_output = relu(hidden_layer_input)\n",
    "    output_layer_input = tf.add(tf.matmul(hidden_layer_output, weights['output']), biases['output'])\n",
    "    output_layer_output = sigmoid(output_layer_input)\n",
    "    return output_layer_output"
   ]
  },
  {
   "cell_type": "code",
   "execution_count": 6,
   "metadata": {},
   "outputs": [],
   "source": [
    "# Define the training function\n",
    "def train(inputs, targets, weights, biases, learning_rate=0.005):\n",
    "    with tf.GradientTape() as tape:\n",
    "        predictions = forward(inputs, weights, biases)\n",
    "        loss = loss_fn(targets, predictions)\n",
    "\n",
    "    gradients = tape.gradient(loss, [weights['hidden'], weights['output'], biases['hidden'], biases['output']])\n",
    "\n",
    "    weights['hidden'].assign_sub(learning_rate * gradients[0])\n",
    "    weights['output'].assign_sub(learning_rate * gradients[1])\n",
    "    biases['hidden'].assign_sub(learning_rate * gradients[2])\n",
    "    biases['output'].assign_sub(learning_rate * gradients[3])\n",
    "    return loss, predictions\n",
    "\n",
    "# Define model training and early stop functions\n",
    "def fit(inputs, targets, x_val, y_val, weights, biases, epochs=100, learning_rate=0.1, batch_size=32):\n",
    "    train_losses = []  \n",
    "    val_losses = [] \n",
    "    best_val_loss = float('inf')\n",
    "    patience = 10  # Patience parameter for early stop\n",
    "    patience_counter = 0  # Track the number of times the validation loss has not improved\n",
    "\n",
    "    for epoch in range(epochs):\n",
    "        # Mini-batch\n",
    "        for i in range(0, inputs.shape[0], batch_size):\n",
    "            batch_inputs = inputs[i:i+batch_size]\n",
    "            batch_targets = targets[i:i+batch_size]\n",
    "            _, predictions = train(batch_inputs, batch_targets, weights, biases, learning_rate)\n",
    "        \n",
    "        # Calculate training losses\n",
    "        train_loss = loss_fn(targets, predictions)\n",
    "        train_losses.append(train_loss.numpy())\n",
    "        \n",
    "        # Calculate the verification loss\n",
    "        val_predictions = forward(x_val, weights, biases)\n",
    "        val_loss = loss_fn(y_val, val_predictions)\n",
    "        val_losses.append(val_loss.numpy())\n",
    "\n",
    "        min_delta = 0.01  # Minimum change threshold\n",
    "\n",
    "        # Check for improvement\n",
    "        if val_loss < best_val_loss - min_delta:  # is valid only if the improvement exceeds the min delta\n",
    "            best_val_loss = val_loss\n",
    "            patience_counter = 0\n",
    "        else:\n",
    "            patience_counter += 1\n",
    "\n",
    "        # Early stop\n",
    "        if patience_counter > patience:\n",
    "            print(f\"Early stopping at epoch {epoch}\")\n",
    "            break\n",
    "        \n",
    "        # Display the output training and validation losses every 10 epochs\n",
    "        if epoch % 10 == 0:\n",
    "            print(f'Epoch {epoch}, Training Loss: {train_loss.numpy():.6f}, Validation Loss: {val_loss.numpy():.6f}')\n",
    "\n",
    "    return train_losses, val_losses"
   ]
  },
  {
   "cell_type": "code",
   "execution_count": 7,
   "metadata": {},
   "outputs": [
    {
     "name": "stderr",
     "output_type": "stream",
     "text": [
      "2024-06-07 03:01:16.918467: W tensorflow/stream_executor/platform/default/dso_loader.cc:64] Could not load dynamic library 'libcuda.so.1'; dlerror: libcuda.so.1: cannot open shared object file: No such file or directory\n",
      "2024-06-07 03:01:16.930916: W tensorflow/stream_executor/cuda/cuda_driver.cc:263] failed call to cuInit: UNKNOWN ERROR (303)\n",
      "2024-06-07 03:01:16.930961: I tensorflow/stream_executor/cuda/cuda_diagnostics.cc:156] kernel driver does not appear to be running on this host (codespaces-3393b3): /proc/driver/nvidia/version does not exist\n",
      "2024-06-07 03:01:17.013398: I tensorflow/core/platform/cpu_feature_guard.cc:193] This TensorFlow binary is optimized with oneAPI Deep Neural Network Library (oneDNN) to use the following CPU instructions in performance-critical operations:  AVX2 FMA\n",
      "To enable them in other operations, rebuild TensorFlow with the appropriate compiler flags.\n"
     ]
    }
   ],
   "source": [
    "# Initialize model parameters\n",
    "input_size = 18 # Input layer nodes, corresponding to the number of features\n",
    "hidden_size = 100 # Number of hidden layer nodes\n",
    "output_size = 1 # Output layer nodes, corresponding to the binary classification task\n",
    "\n",
    "weights = {\n",
    "    'hidden': tf.Variable(tf.random.normal([input_size, hidden_size], stddev=0.1), name='hidden_weights'),\n",
    "    'output': tf.Variable(tf.random.normal([hidden_size, output_size], stddev=0.1), name='output_weights')\n",
    "}\n",
    "biases = {\n",
    "    'hidden': tf.Variable(tf.random.normal([hidden_size], stddev=0.1), name='hidden_biases'),\n",
    "    'output': tf.Variable(tf.random.normal([output_size], stddev=0.1), name='output_biases')\n",
    "}"
   ]
  },
  {
   "cell_type": "code",
   "execution_count": 8,
   "metadata": {},
   "outputs": [
    {
     "name": "stdout",
     "output_type": "stream",
     "text": [
      "(378, 18)\n",
      "(54, 18)\n",
      "(108, 18)\n"
     ]
    }
   ],
   "source": [
    "features = climate_data.drop(columns=['Study', 'Run', 'outcome'])\n",
    "label = climate_data['outcome']\n",
    "\n",
    "# Data set separation function\n",
    "def split(features, label):\n",
    "    x_train, x_val_test, y_train, y_val_test = train_test_split(features, label, test_size = 0.3, random_state = 77)\n",
    "    x_val, x_test, y_val, y_test = train_test_split(x_val_test, y_val_test, test_size = 2/3, random_state = 77)\n",
    "    return x_train, y_train, x_val, y_val, x_test, y_test\n",
    "\n",
    "x_train, y_train, x_val, y_val, x_test, y_test = split(features, label)\n",
    "\n",
    "print(x_train.shape)\n",
    "print(x_val.shape)\n",
    "print(x_test.shape)"
   ]
  },
  {
   "cell_type": "code",
   "execution_count": 9,
   "metadata": {},
   "outputs": [],
   "source": [
    "# Feature normalization function\n",
    "def normalize_features(features):\n",
    "    mean = np.mean(features, axis=0)\n",
    "    std = np.std(features, axis=0)\n",
    "    features_normalized = (features - mean) / std\n",
    "    return features_normalized, mean, std\n",
    "\n",
    "# Normalize training set, validation set, and test set features\n",
    "x_train_normalized, mean1, std1 = normalize_features(x_train)\n",
    "x_val_normalized = (x_val - mean1) / std1\n",
    "x_test_normalized = (x_test - mean1) / std1\n",
    "\n",
    "# Convert to TensorFlow tensor\n",
    "x_train_normalized = tf.cast(x_train_normalized, tf.float32)\n",
    "x_val_normalized = tf.cast(x_val_normalized, tf.float32)\n",
    "x_test_normalized = tf.cast(x_test_normalized, tf.float32)\n",
    "y_train = tf.cast(y_train, tf.float32)\n",
    "y_val = tf.cast(y_val, tf.float32)\n",
    "y_test = tf.cast(y_test, tf.float32)"
   ]
  },
  {
   "cell_type": "code",
   "execution_count": 10,
   "metadata": {},
   "outputs": [
    {
     "name": "stdout",
     "output_type": "stream",
     "text": [
      "Epoch 0, Training Loss: 0.645436, Validation Loss: 0.614716\n",
      "Epoch 10, Training Loss: 0.433320, Validation Loss: 0.386805\n",
      "Epoch 20, Training Loss: 0.366077, Validation Loss: 0.307786\n",
      "Epoch 30, Training Loss: 0.340071, Validation Loss: 0.273329\n",
      "Epoch 40, Training Loss: 0.328623, Validation Loss: 0.255807\n",
      "Epoch 50, Training Loss: 0.323157, Validation Loss: 0.245912\n",
      "Early stopping at epoch 54\n",
      "Final training loss: 0.32183293\n",
      "Final validation loss: 0.2431645\n"
     ]
    }
   ],
   "source": [
    "model = {\n",
    "    'weights': weights,\n",
    "    'biases': biases\n",
    "}\n",
    "\n",
    "# Set training parameters\n",
    "epochs = 100\n",
    "learning_rate = 0.005\n",
    "\n",
    "# Training model\n",
    "train_losses, val_losses = fit(x_train_normalized, y_train, x_val_normalized, y_val, weights, biases, epochs, learning_rate)\n",
    "\n",
    "print(\"Final training loss:\", train_losses[-1])\n",
    "print(\"Final validation loss:\", val_losses[-1])\n"
   ]
  },
  {
   "cell_type": "code",
   "execution_count": 11,
   "metadata": {},
   "outputs": [
    {
     "data": {
      "image/png": "[encoded data removed]",
      "text/plain": [
       "<Figure size 1000x500 with 1 Axes>"
      ]
     },
     "metadata": {},
     "output_type": "display_data"
    }
   ],
   "source": [
    "# Plot the loss curve\n",
    "def plot_losses(train_losses, val_losses):\n",
    "    epochs = range(1, len(train_losses) + 1)\n",
    "    plt.figure(figsize=(10, 5))\n",
    "    plt.plot(epochs, train_losses, label='Training loss')\n",
    "    plt.plot(epochs, val_losses, label='Validation loss')\n",
    "    plt.title('Training and Validation Loss')\n",
    "    plt.xlabel('Epoch')\n",
    "    plt.ylabel('Loss')\n",
    "    plt.legend()\n",
    "    plt.grid(True)\n",
    "    plt.show()\n",
    "\n",
    "plot_losses(train_losses, val_losses)"
   ]
  },
  {
   "cell_type": "code",
   "execution_count": 12,
   "metadata": {},
   "outputs": [],
   "source": [
    "# Define the prediction function\n",
    "def predict(model, inputs):\n",
    "    outputs = forward(inputs, model['weights'], model['biases'])\n",
    "    return tf.cast(tf.greater(outputs, 0.5), tf.int32)  \n",
    "\n",
    "# Predictive test set\n",
    "predicted_classes = predict(model, x_test_normalized)"
   ]
  },
  {
   "cell_type": "code",
   "execution_count": 13,
   "metadata": {},
   "outputs": [
    {
     "name": "stdout",
     "output_type": "stream",
     "text": [
      "Confusion Matrix:\n",
      "[[  0   7]\n",
      " [  0 101]]\n",
      "Classification Report:\n",
      "              precision    recall  f1-score   support\n",
      "\n",
      "         0.0       0.00      0.00      0.00         7\n",
      "         1.0       0.94      1.00      0.97       101\n",
      "\n",
      "    accuracy                           0.94       108\n",
      "   macro avg       0.47      0.50      0.48       108\n",
      "weighted avg       0.87      0.94      0.90       108\n",
      "\n"
     ]
    },
    {
     "name": "stderr",
     "output_type": "stream",
     "text": [
      "/home/codespace/.local/lib/python3.10/site-packages/sklearn/metrics/_classification.py:1517: UndefinedMetricWarning: Precision is ill-defined and being set to 0.0 in labels with no predicted samples. Use `zero_division` parameter to control this behavior.\n",
      "  _warn_prf(average, modifier, f\"{metric.capitalize()} is\", len(result))\n",
      "/home/codespace/.local/lib/python3.10/site-packages/sklearn/metrics/_classification.py:1517: UndefinedMetricWarning: Precision is ill-defined and being set to 0.0 in labels with no predicted samples. Use `zero_division` parameter to control this behavior.\n",
      "  _warn_prf(average, modifier, f\"{metric.capitalize()} is\", len(result))\n",
      "/home/codespace/.local/lib/python3.10/site-packages/sklearn/metrics/_classification.py:1517: UndefinedMetricWarning: Precision is ill-defined and being set to 0.0 in labels with no predicted samples. Use `zero_division` parameter to control this behavior.\n",
      "  _warn_prf(average, modifier, f\"{metric.capitalize()} is\", len(result))\n"
     ]
    }
   ],
   "source": [
    "# Evaluation model\n",
    "true_classes = y_test\n",
    "confu_matrix = confusion_matrix(true_classes.numpy(), predicted_classes.numpy())\n",
    "class_report = classification_report(true_classes.numpy(), predicted_classes.numpy())\n",
    "\n",
    "print(\"Confusion Matrix:\")\n",
    "print(confu_matrix)\n",
    "print(\"Classification Report:\")\n",
    "print(class_report)"
   ]
  },
  {
   "cell_type": "code",
   "execution_count": null,
   "metadata": {},
   "outputs": [],
   "source": []
  }
 ],
 "metadata": {
  "kernelspec": {
   "display_name": "Python 3",
   "language": "python",
   "name": "python3"
  },
  "language_info": {
   "codemirror_mode": {
    "name": "ipython",
    "version": 3
   },
   "file_extension": ".py",
   "mimetype": "text/x-python",
   "name": "python",
   "nbconvert_exporter": "python",
   "pygments_lexer": "ipython3",
   "version": "3.10.13"
  }
 },
 "nbformat": 4,
 "nbformat_minor": 2
}
